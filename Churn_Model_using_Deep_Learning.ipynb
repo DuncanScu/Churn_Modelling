{
  "nbformat": 4,
  "nbformat_minor": 0,
  "metadata": {
    "colab": {
      "name": "Churn_Model_using_Deep_Learning.ipynb",
      "provenance": [],
      "collapsed_sections": [],
      "toc_visible": true,
      "include_colab_link": true
    },
    "kernelspec": {
      "name": "python3",
      "display_name": "Python 3"
    }
  },
  "cells": [
    {
      "cell_type": "markdown",
      "metadata": {
        "id": "view-in-github",
        "colab_type": "text"
      },
      "source": [
        "<a href=\"https://colab.research.google.com/github/DuncanScu/Chrun_Modelling/blob/main/Churn_Model_using_Deep_Learning.ipynb\" target=\"_parent\"><img src=\"https://colab.research.google.com/assets/colab-badge.svg\" alt=\"Open In Colab\"/></a>"
      ]
    },
    {
      "cell_type": "markdown",
      "metadata": {
        "id": "lP6JLo1tGNBg"
      },
      "source": [
        "# Artificial Neural Network"
      ]
    },
    {
      "cell_type": "markdown",
      "metadata": {
        "id": "gWZyYmS_UE_L"
      },
      "source": [
        "### Importing the libraries"
      ]
    },
    {
      "cell_type": "code",
      "metadata": {
        "id": "rvPhY6bCecGT"
      },
      "source": [
        "import numpy as np\n",
        "import pandas as pd\n",
        "import tensorflow as tf #TensorFlow is already in GoogleColab, no need for pip"
      ],
      "execution_count": 3,
      "outputs": []
    },
    {
      "cell_type": "code",
      "metadata": {
        "id": "NWYKRggmfYgb",
        "outputId": "97742db4-fc95-4fd2-eb8c-aa470c331162",
        "colab": {
          "base_uri": "https://localhost:8080/",
          "height": 35
        }
      },
      "source": [
        "tf.__version__"
      ],
      "execution_count": 7,
      "outputs": [
        {
          "output_type": "execute_result",
          "data": {
            "application/vnd.google.colaboratory.intrinsic+json": {
              "type": "string"
            },
            "text/plain": [
              "'2.3.0'"
            ]
          },
          "metadata": {
            "tags": []
          },
          "execution_count": 7
        }
      ]
    },
    {
      "cell_type": "markdown",
      "metadata": {
        "id": "1E0Q3aoKUCRX"
      },
      "source": [
        "## Part 1 - Data Preprocessing"
      ]
    },
    {
      "cell_type": "markdown",
      "metadata": {
        "id": "cKWAkFVGUU0Z"
      },
      "source": [
        "### Importing the dataset"
      ]
    },
    {
      "cell_type": "code",
      "metadata": {
        "id": "BG5in900foaa"
      },
      "source": [
        "dataset=pd.read_csv('Churn_Modelling.csv')\n",
        "X = dataset.iloc[:, 3:-1].values\n",
        "y = dataset.iloc[:, -1].values  #1 means leave, 0 means stay"
      ],
      "execution_count": 10,
      "outputs": []
    },
    {
      "cell_type": "code",
      "metadata": {
        "id": "I00QJRJGiDzb",
        "outputId": "6770ee3f-8c70-4cd9-c984-977e236a8881",
        "colab": {
          "base_uri": "https://localhost:8080/",
          "height": 136
        }
      },
      "source": [
        "print(X)"
      ],
      "execution_count": 11,
      "outputs": [
        {
          "output_type": "stream",
          "text": [
            "[[619 'France' 'Female' ... 1 1 101348.88]\n",
            " [608 'Spain' 'Female' ... 0 1 112542.58]\n",
            " [502 'France' 'Female' ... 1 0 113931.57]\n",
            " ...\n",
            " [709 'France' 'Female' ... 0 1 42085.58]\n",
            " [772 'Germany' 'Male' ... 1 0 92888.52]\n",
            " [792 'France' 'Female' ... 1 0 38190.78]]\n"
          ],
          "name": "stdout"
        }
      ]
    },
    {
      "cell_type": "code",
      "metadata": {
        "id": "PXku7R7biD55",
        "outputId": "84bbe385-85dd-4710-91de-c2ae7058e705",
        "colab": {
          "base_uri": "https://localhost:8080/",
          "height": 34
        }
      },
      "source": [
        "print(y)"
      ],
      "execution_count": 12,
      "outputs": [
        {
          "output_type": "stream",
          "text": [
            "[1 0 1 ... 1 1 0]\n"
          ],
          "name": "stdout"
        }
      ]
    },
    {
      "cell_type": "markdown",
      "metadata": {
        "id": "N6bQ0UgSU-NJ"
      },
      "source": [
        "### Encoding categorical data"
      ]
    },
    {
      "cell_type": "markdown",
      "metadata": {
        "id": "le5MJreAbW52"
      },
      "source": [
        "Label Encoding the \"Gender\" column"
      ]
    },
    {
      "cell_type": "code",
      "metadata": {
        "id": "GipBxI8iiaKr"
      },
      "source": [
        "from sklearn.preprocessing import LabelEncoder\n",
        "le = LabelEncoder()\n",
        "X[:, 2] = le.fit_transform(X[: , 2])"
      ],
      "execution_count": 15,
      "outputs": []
    },
    {
      "cell_type": "code",
      "metadata": {
        "id": "aLpcSFxzjKzs",
        "outputId": "181d6685-f3f5-4b42-f1e4-3f785dd0a9bc",
        "colab": {
          "base_uri": "https://localhost:8080/",
          "height": 34
        }
      },
      "source": [
        "print(X[:, 2]) #0 for female, 1 for male"
      ],
      "execution_count": 16,
      "outputs": [
        {
          "output_type": "stream",
          "text": [
            "[0 0 0 ... 0 1 0]\n"
          ],
          "name": "stdout"
        }
      ]
    },
    {
      "cell_type": "markdown",
      "metadata": {
        "id": "CUxGZezpbMcb"
      },
      "source": [
        "One Hot Encoding the \"Geography\" column"
      ]
    },
    {
      "cell_type": "code",
      "metadata": {
        "id": "SUwNxBUXjWoU"
      },
      "source": [
        "from sklearn.compose import ColumnTransformer\n",
        "from sklearn.preprocessing import OneHotEncoder\n",
        "ct = ColumnTransformer(transformers=[('encoder', OneHotEncoder(), [1])], remainder='passthrough')\n",
        "X = np.array(ct.fit_transform(X))\n"
      ],
      "execution_count": 17,
      "outputs": []
    },
    {
      "cell_type": "code",
      "metadata": {
        "id": "R7JIv3JCkHDk",
        "outputId": "8bac12bb-a48f-4d08-cd29-9bae02b7ecf7",
        "colab": {
          "base_uri": "https://localhost:8080/",
          "height": 136
        }
      },
      "source": [
        "print(X) #France = 1 0 0, Spain = 0 0 1 Germany = 0 1 0"
      ],
      "execution_count": 18,
      "outputs": [
        {
          "output_type": "stream",
          "text": [
            "[[1.0 0.0 0.0 ... 1 1 101348.88]\n",
            " [0.0 0.0 1.0 ... 0 1 112542.58]\n",
            " [1.0 0.0 0.0 ... 1 0 113931.57]\n",
            " ...\n",
            " [1.0 0.0 0.0 ... 0 1 42085.58]\n",
            " [0.0 1.0 0.0 ... 1 0 92888.52]\n",
            " [1.0 0.0 0.0 ... 1 0 38190.78]]\n"
          ],
          "name": "stdout"
        }
      ]
    },
    {
      "cell_type": "markdown",
      "metadata": {
        "id": "vHol938cW8zd"
      },
      "source": [
        "### Splitting the dataset into the Training set and Test set"
      ]
    },
    {
      "cell_type": "code",
      "metadata": {
        "id": "PXcQRXNpkfTz"
      },
      "source": [
        "from sklearn.model_selection import train_test_split\n",
        "X_train, X_test, y_train, y_test = train_test_split(X, y, test_size = 0.25, random_state = 0)"
      ],
      "execution_count": 22,
      "outputs": []
    },
    {
      "cell_type": "markdown",
      "metadata": {
        "id": "RE_FcHyfV3TQ"
      },
      "source": [
        "### Feature Scaling"
      ]
    },
    {
      "cell_type": "code",
      "metadata": {
        "id": "yY5v1rjjlezU"
      },
      "source": [
        "from sklearn.preprocessing import StandardScaler\n",
        "sc = StandardScaler()\n",
        "X_train = sc.fit_transform(X_train)\n",
        "X_test = sc.transform(X_test)"
      ],
      "execution_count": 24,
      "outputs": []
    },
    {
      "cell_type": "code",
      "metadata": {
        "id": "PDikj8e-mKD9",
        "outputId": "7dd6062c-d376-48a3-8eae-0c959fa04960",
        "colab": {
          "base_uri": "https://localhost:8080/",
          "height": 238
        }
      },
      "source": [
        "print(X_train)"
      ],
      "execution_count": 27,
      "outputs": [
        {
          "output_type": "stream",
          "text": [
            "[[-1.01558815  1.76021608 -0.57468161 ... -1.55362351 -1.03446007\n",
            "  -1.64080994]\n",
            " [ 0.98465111 -0.56811207 -0.57468161 ...  0.64365658 -1.03446007\n",
            "  -0.07927152]\n",
            " [-1.01558815 -0.56811207  1.74009395 ...  0.64365658  0.96668786\n",
            "  -0.99684012]\n",
            " ...\n",
            " [ 0.98465111 -0.56811207 -0.57468161 ...  0.64365658 -1.03446007\n",
            "   1.4133552 ]\n",
            " [-1.01558815 -0.56811207  1.74009395 ...  0.64365658  0.96668786\n",
            "   0.84496184]\n",
            " [-1.01558815  1.76021608 -0.57468161 ...  0.64365658 -1.03446007\n",
            "   0.32500428]]\n"
          ],
          "name": "stdout"
        }
      ]
    },
    {
      "cell_type": "code",
      "metadata": {
        "id": "mW3v3RgdmFqF",
        "outputId": "5bdf8ccc-b7f6-4d82-eee2-396b1ea6a4a3",
        "colab": {
          "base_uri": "https://localhost:8080/",
          "height": 238
        }
      },
      "source": [
        "print(X_test)"
      ],
      "execution_count": 26,
      "outputs": [
        {
          "output_type": "stream",
          "text": [
            "[[-1.01558815  1.76021608 -0.57468161 ...  0.64365658  0.96668786\n",
            "   1.61203027]\n",
            " [ 0.98465111 -0.56811207 -0.57468161 ...  0.64365658 -1.03446007\n",
            "   0.49626891]\n",
            " [-1.01558815 -0.56811207  1.74009395 ...  0.64365658  0.96668786\n",
            "  -0.42502785]\n",
            " ...\n",
            " [ 0.98465111 -0.56811207 -0.57468161 ...  0.64365658 -1.03446007\n",
            "  -0.272747  ]\n",
            " [-1.01558815  1.76021608 -0.57468161 ...  0.64365658 -1.03446007\n",
            "  -0.93306558]\n",
            " [ 0.98465111 -0.56811207 -0.57468161 ... -1.55362351 -1.03446007\n",
            "  -0.47380732]]\n"
          ],
          "name": "stdout"
        }
      ]
    },
    {
      "cell_type": "markdown",
      "metadata": {
        "id": "-zfEzkRVXIwF"
      },
      "source": [
        "## Part 2 - Building the ANN"
      ]
    },
    {
      "cell_type": "markdown",
      "metadata": {
        "id": "KvdeScabXtlB"
      },
      "source": [
        "### Initializing the ANN"
      ]
    },
    {
      "cell_type": "code",
      "metadata": {
        "id": "R9b-pwl2mpgt"
      },
      "source": [
        "ann = tf.keras.models.Sequential()"
      ],
      "execution_count": 28,
      "outputs": []
    },
    {
      "cell_type": "markdown",
      "metadata": {
        "id": "rP6urV6SX7kS"
      },
      "source": [
        "### Adding the input layer and the first hidden layer"
      ]
    },
    {
      "cell_type": "code",
      "metadata": {
        "id": "3iLaSb4pncfH"
      },
      "source": [
        "ann.add(tf.keras.layers.Dense(units= 6, activation= 'relu'))"
      ],
      "execution_count": 29,
      "outputs": []
    },
    {
      "cell_type": "markdown",
      "metadata": {
        "id": "BELWAc_8YJze"
      },
      "source": [
        "### Adding the second hidden layer"
      ]
    },
    {
      "cell_type": "code",
      "metadata": {
        "id": "GBkUq8ubouqT"
      },
      "source": [
        "ann.add(tf.keras.layers.Dense(units= 6, activation= 'relu'))"
      ],
      "execution_count": 30,
      "outputs": []
    },
    {
      "cell_type": "markdown",
      "metadata": {
        "id": "OyNEe6RXYcU4"
      },
      "source": [
        "### Adding the output layer"
      ]
    },
    {
      "cell_type": "code",
      "metadata": {
        "id": "Og1uXZvGo7sH"
      },
      "source": [
        "ann.add(tf.keras.layers.Dense(units= 1, activation= 'sigmoid'))"
      ],
      "execution_count": 31,
      "outputs": []
    },
    {
      "cell_type": "markdown",
      "metadata": {
        "id": "JT4u2S1_Y4WG"
      },
      "source": [
        "## Part 3 - Training the ANN"
      ]
    },
    {
      "cell_type": "markdown",
      "metadata": {
        "id": "8GWlJChhY_ZI"
      },
      "source": [
        "### Compiling the ANN"
      ]
    },
    {
      "cell_type": "code",
      "metadata": {
        "id": "VlvG7xwAr8pJ"
      },
      "source": [
        "ann.compile(optimizer= 'adam', loss= 'binary_crossentropy', metrics= ['accuracy'])"
      ],
      "execution_count": 33,
      "outputs": []
    },
    {
      "cell_type": "markdown",
      "metadata": {
        "id": "0QR_G5u7ZLSM"
      },
      "source": [
        "### Training the ANN on the Training set"
      ]
    },
    {
      "cell_type": "code",
      "metadata": {
        "id": "Exo3Q-ZOuO8f",
        "outputId": "e7c6c3e9-8829-43e7-d338-f63cbf22eebb",
        "colab": {
          "base_uri": "https://localhost:8080/",
          "height": 1000
        }
      },
      "source": [
        "ann.fit(X_train, y_train, batch_size= 32, epochs= 100)"
      ],
      "execution_count": 34,
      "outputs": [
        {
          "output_type": "stream",
          "text": [
            "Epoch 1/100\n",
            "235/235 [==============================] - 0s 968us/step - loss: 0.5649 - accuracy: 0.7249\n",
            "Epoch 2/100\n",
            "235/235 [==============================] - 0s 1ms/step - loss: 0.4933 - accuracy: 0.7920\n",
            "Epoch 3/100\n",
            "235/235 [==============================] - 0s 1ms/step - loss: 0.4686 - accuracy: 0.7963\n",
            "Epoch 4/100\n",
            "235/235 [==============================] - 0s 993us/step - loss: 0.4533 - accuracy: 0.7967\n",
            "Epoch 5/100\n",
            "235/235 [==============================] - 0s 943us/step - loss: 0.4418 - accuracy: 0.7967\n",
            "Epoch 6/100\n",
            "235/235 [==============================] - 0s 994us/step - loss: 0.4330 - accuracy: 0.7985\n",
            "Epoch 7/100\n",
            "235/235 [==============================] - 0s 1ms/step - loss: 0.4248 - accuracy: 0.8101\n",
            "Epoch 8/100\n",
            "235/235 [==============================] - 0s 967us/step - loss: 0.4143 - accuracy: 0.8191\n",
            "Epoch 9/100\n",
            "235/235 [==============================] - 0s 938us/step - loss: 0.3995 - accuracy: 0.8311\n",
            "Epoch 10/100\n",
            "235/235 [==============================] - 0s 942us/step - loss: 0.3831 - accuracy: 0.8411\n",
            "Epoch 11/100\n",
            "235/235 [==============================] - 0s 988us/step - loss: 0.3702 - accuracy: 0.8484\n",
            "Epoch 12/100\n",
            "235/235 [==============================] - 0s 954us/step - loss: 0.3622 - accuracy: 0.8559\n",
            "Epoch 13/100\n",
            "235/235 [==============================] - 0s 947us/step - loss: 0.3570 - accuracy: 0.8557\n",
            "Epoch 14/100\n",
            "235/235 [==============================] - 0s 957us/step - loss: 0.3538 - accuracy: 0.8572\n",
            "Epoch 15/100\n",
            "235/235 [==============================] - 0s 945us/step - loss: 0.3519 - accuracy: 0.8576\n",
            "Epoch 16/100\n",
            "235/235 [==============================] - 0s 1ms/step - loss: 0.3504 - accuracy: 0.8581\n",
            "Epoch 17/100\n",
            "235/235 [==============================] - 0s 947us/step - loss: 0.3489 - accuracy: 0.8592\n",
            "Epoch 18/100\n",
            "235/235 [==============================] - 0s 994us/step - loss: 0.3482 - accuracy: 0.8580\n",
            "Epoch 19/100\n",
            "235/235 [==============================] - 0s 941us/step - loss: 0.3474 - accuracy: 0.8584\n",
            "Epoch 20/100\n",
            "235/235 [==============================] - 0s 985us/step - loss: 0.3466 - accuracy: 0.8587\n",
            "Epoch 21/100\n",
            "235/235 [==============================] - 0s 953us/step - loss: 0.3461 - accuracy: 0.8596\n",
            "Epoch 22/100\n",
            "235/235 [==============================] - 0s 978us/step - loss: 0.3453 - accuracy: 0.8587\n",
            "Epoch 23/100\n",
            "235/235 [==============================] - 0s 968us/step - loss: 0.3450 - accuracy: 0.8588\n",
            "Epoch 24/100\n",
            "235/235 [==============================] - 0s 945us/step - loss: 0.3444 - accuracy: 0.8591\n",
            "Epoch 25/100\n",
            "235/235 [==============================] - 0s 1ms/step - loss: 0.3443 - accuracy: 0.8596\n",
            "Epoch 26/100\n",
            "235/235 [==============================] - 0s 1ms/step - loss: 0.3437 - accuracy: 0.8601\n",
            "Epoch 27/100\n",
            "235/235 [==============================] - 0s 944us/step - loss: 0.3434 - accuracy: 0.8600\n",
            "Epoch 28/100\n",
            "235/235 [==============================] - 0s 957us/step - loss: 0.3431 - accuracy: 0.8591\n",
            "Epoch 29/100\n",
            "235/235 [==============================] - 0s 976us/step - loss: 0.3427 - accuracy: 0.8599\n",
            "Epoch 30/100\n",
            "235/235 [==============================] - 0s 949us/step - loss: 0.3420 - accuracy: 0.8599\n",
            "Epoch 31/100\n",
            "235/235 [==============================] - 0s 1ms/step - loss: 0.3419 - accuracy: 0.8600\n",
            "Epoch 32/100\n",
            "235/235 [==============================] - 0s 970us/step - loss: 0.3419 - accuracy: 0.8588\n",
            "Epoch 33/100\n",
            "235/235 [==============================] - 0s 981us/step - loss: 0.3412 - accuracy: 0.8596\n",
            "Epoch 34/100\n",
            "235/235 [==============================] - 0s 967us/step - loss: 0.3411 - accuracy: 0.8591\n",
            "Epoch 35/100\n",
            "235/235 [==============================] - 0s 963us/step - loss: 0.3404 - accuracy: 0.8611\n",
            "Epoch 36/100\n",
            "235/235 [==============================] - 0s 992us/step - loss: 0.3404 - accuracy: 0.8603\n",
            "Epoch 37/100\n",
            "235/235 [==============================] - 0s 948us/step - loss: 0.3399 - accuracy: 0.8615\n",
            "Epoch 38/100\n",
            "235/235 [==============================] - 0s 1ms/step - loss: 0.3400 - accuracy: 0.8605\n",
            "Epoch 39/100\n",
            "235/235 [==============================] - 0s 952us/step - loss: 0.3399 - accuracy: 0.8599\n",
            "Epoch 40/100\n",
            "235/235 [==============================] - 0s 1ms/step - loss: 0.3394 - accuracy: 0.8611\n",
            "Epoch 41/100\n",
            "235/235 [==============================] - 0s 933us/step - loss: 0.3392 - accuracy: 0.8608\n",
            "Epoch 42/100\n",
            "235/235 [==============================] - 0s 965us/step - loss: 0.3389 - accuracy: 0.8608\n",
            "Epoch 43/100\n",
            "235/235 [==============================] - 0s 959us/step - loss: 0.3387 - accuracy: 0.8609\n",
            "Epoch 44/100\n",
            "235/235 [==============================] - 0s 975us/step - loss: 0.3386 - accuracy: 0.8601\n",
            "Epoch 45/100\n",
            "235/235 [==============================] - 0s 950us/step - loss: 0.3381 - accuracy: 0.8619\n",
            "Epoch 46/100\n",
            "235/235 [==============================] - 0s 1ms/step - loss: 0.3383 - accuracy: 0.8612\n",
            "Epoch 47/100\n",
            "235/235 [==============================] - 0s 951us/step - loss: 0.3375 - accuracy: 0.8620\n",
            "Epoch 48/100\n",
            "235/235 [==============================] - 0s 991us/step - loss: 0.3379 - accuracy: 0.8611\n",
            "Epoch 49/100\n",
            "235/235 [==============================] - 0s 953us/step - loss: 0.3377 - accuracy: 0.8608\n",
            "Epoch 50/100\n",
            "235/235 [==============================] - 0s 945us/step - loss: 0.3374 - accuracy: 0.8609\n",
            "Epoch 51/100\n",
            "235/235 [==============================] - 0s 988us/step - loss: 0.3375 - accuracy: 0.8591\n",
            "Epoch 52/100\n",
            "235/235 [==============================] - 0s 970us/step - loss: 0.3372 - accuracy: 0.8621\n",
            "Epoch 53/100\n",
            "235/235 [==============================] - 0s 938us/step - loss: 0.3372 - accuracy: 0.8611\n",
            "Epoch 54/100\n",
            "235/235 [==============================] - 0s 1ms/step - loss: 0.3372 - accuracy: 0.8620\n",
            "Epoch 55/100\n",
            "235/235 [==============================] - 0s 1ms/step - loss: 0.3367 - accuracy: 0.8612\n",
            "Epoch 56/100\n",
            "235/235 [==============================] - 0s 981us/step - loss: 0.3368 - accuracy: 0.8619\n",
            "Epoch 57/100\n",
            "235/235 [==============================] - 0s 931us/step - loss: 0.3368 - accuracy: 0.8620\n",
            "Epoch 58/100\n",
            "235/235 [==============================] - 0s 985us/step - loss: 0.3364 - accuracy: 0.8617\n",
            "Epoch 59/100\n",
            "235/235 [==============================] - 0s 983us/step - loss: 0.3363 - accuracy: 0.8631\n",
            "Epoch 60/100\n",
            "235/235 [==============================] - 0s 988us/step - loss: 0.3363 - accuracy: 0.8631\n",
            "Epoch 61/100\n",
            "235/235 [==============================] - 0s 969us/step - loss: 0.3362 - accuracy: 0.8636\n",
            "Epoch 62/100\n",
            "235/235 [==============================] - 0s 977us/step - loss: 0.3360 - accuracy: 0.8629\n",
            "Epoch 63/100\n",
            "235/235 [==============================] - 0s 964us/step - loss: 0.3360 - accuracy: 0.8631\n",
            "Epoch 64/100\n",
            "235/235 [==============================] - 0s 991us/step - loss: 0.3360 - accuracy: 0.8631\n",
            "Epoch 65/100\n",
            "235/235 [==============================] - 0s 995us/step - loss: 0.3358 - accuracy: 0.8625\n",
            "Epoch 66/100\n",
            "235/235 [==============================] - 0s 984us/step - loss: 0.3355 - accuracy: 0.8627\n",
            "Epoch 67/100\n",
            "235/235 [==============================] - 0s 985us/step - loss: 0.3355 - accuracy: 0.8629\n",
            "Epoch 68/100\n",
            "235/235 [==============================] - 0s 1ms/step - loss: 0.3353 - accuracy: 0.8623\n",
            "Epoch 69/100\n",
            "235/235 [==============================] - 0s 977us/step - loss: 0.3351 - accuracy: 0.8631\n",
            "Epoch 70/100\n",
            "235/235 [==============================] - 0s 981us/step - loss: 0.3351 - accuracy: 0.8631\n",
            "Epoch 71/100\n",
            "235/235 [==============================] - 0s 1ms/step - loss: 0.3347 - accuracy: 0.8635\n",
            "Epoch 72/100\n",
            "235/235 [==============================] - 0s 1ms/step - loss: 0.3347 - accuracy: 0.8641\n",
            "Epoch 73/100\n",
            "235/235 [==============================] - 0s 999us/step - loss: 0.3351 - accuracy: 0.8644\n",
            "Epoch 74/100\n",
            "235/235 [==============================] - 0s 996us/step - loss: 0.3348 - accuracy: 0.8641\n",
            "Epoch 75/100\n",
            "235/235 [==============================] - 0s 959us/step - loss: 0.3344 - accuracy: 0.8632\n",
            "Epoch 76/100\n",
            "235/235 [==============================] - 0s 984us/step - loss: 0.3348 - accuracy: 0.8631\n",
            "Epoch 77/100\n",
            "235/235 [==============================] - 0s 1ms/step - loss: 0.3346 - accuracy: 0.8635\n",
            "Epoch 78/100\n",
            "235/235 [==============================] - 0s 963us/step - loss: 0.3343 - accuracy: 0.8627\n",
            "Epoch 79/100\n",
            "235/235 [==============================] - 0s 1ms/step - loss: 0.3345 - accuracy: 0.8633\n",
            "Epoch 80/100\n",
            "235/235 [==============================] - 0s 976us/step - loss: 0.3343 - accuracy: 0.8623\n",
            "Epoch 81/100\n",
            "235/235 [==============================] - 0s 1ms/step - loss: 0.3343 - accuracy: 0.8621\n",
            "Epoch 82/100\n",
            "235/235 [==============================] - 0s 1ms/step - loss: 0.3342 - accuracy: 0.8636\n",
            "Epoch 83/100\n",
            "235/235 [==============================] - 0s 974us/step - loss: 0.3337 - accuracy: 0.8639\n",
            "Epoch 84/100\n",
            "235/235 [==============================] - 0s 970us/step - loss: 0.3338 - accuracy: 0.8639\n",
            "Epoch 85/100\n",
            "235/235 [==============================] - 0s 1ms/step - loss: 0.3336 - accuracy: 0.8639\n",
            "Epoch 86/100\n",
            "235/235 [==============================] - 0s 1ms/step - loss: 0.3336 - accuracy: 0.8636\n",
            "Epoch 87/100\n",
            "235/235 [==============================] - 0s 972us/step - loss: 0.3337 - accuracy: 0.8640\n",
            "Epoch 88/100\n",
            "235/235 [==============================] - 0s 1ms/step - loss: 0.3334 - accuracy: 0.8640\n",
            "Epoch 89/100\n",
            "235/235 [==============================] - 0s 1ms/step - loss: 0.3336 - accuracy: 0.8647\n",
            "Epoch 90/100\n",
            "235/235 [==============================] - 0s 985us/step - loss: 0.3332 - accuracy: 0.8637\n",
            "Epoch 91/100\n",
            "235/235 [==============================] - 0s 953us/step - loss: 0.3336 - accuracy: 0.8637\n",
            "Epoch 92/100\n",
            "235/235 [==============================] - 0s 985us/step - loss: 0.3335 - accuracy: 0.8637\n",
            "Epoch 93/100\n",
            "235/235 [==============================] - 0s 1ms/step - loss: 0.3332 - accuracy: 0.8637\n",
            "Epoch 94/100\n",
            "235/235 [==============================] - 0s 984us/step - loss: 0.3332 - accuracy: 0.8633\n",
            "Epoch 95/100\n",
            "235/235 [==============================] - 0s 974us/step - loss: 0.3333 - accuracy: 0.8633\n",
            "Epoch 96/100\n",
            "235/235 [==============================] - 0s 995us/step - loss: 0.3329 - accuracy: 0.8648\n",
            "Epoch 97/100\n",
            "235/235 [==============================] - 0s 1ms/step - loss: 0.3327 - accuracy: 0.8655\n",
            "Epoch 98/100\n",
            "235/235 [==============================] - 0s 1ms/step - loss: 0.3331 - accuracy: 0.8640\n",
            "Epoch 99/100\n",
            "235/235 [==============================] - 0s 988us/step - loss: 0.3331 - accuracy: 0.8632\n",
            "Epoch 100/100\n",
            "235/235 [==============================] - 0s 988us/step - loss: 0.3326 - accuracy: 0.8644\n"
          ],
          "name": "stdout"
        },
        {
          "output_type": "execute_result",
          "data": {
            "text/plain": [
              "<tensorflow.python.keras.callbacks.History at 0x7f0415a43780>"
            ]
          },
          "metadata": {
            "tags": []
          },
          "execution_count": 34
        }
      ]
    },
    {
      "cell_type": "markdown",
      "metadata": {
        "id": "tJj5k2MxZga3"
      },
      "source": [
        "## Part 4 - Making the predictions and evaluating the model"
      ]
    },
    {
      "cell_type": "markdown",
      "metadata": {
        "id": "84QFoqGYeXHL"
      },
      "source": [
        "### Predicting the result of a single observation"
      ]
    },
    {
      "cell_type": "markdown",
      "metadata": {
        "id": "CGRo3eacgDdC"
      },
      "source": [
        "**Homework**\n",
        "\n",
        "Use our ANN model to predict if the customer with the following informations will leave the bank: \n",
        "\n",
        "Geography: France\n",
        "\n",
        "Credit Score: 600\n",
        "\n",
        "Gender: Male\n",
        "\n",
        "Age: 40 years old\n",
        "\n",
        "Tenure: 3 years\n",
        "\n",
        "Balance: \\$ 60000\n",
        "\n",
        "Number of Products: 2\n",
        "\n",
        "Does this customer have a credit card? Yes\n",
        "\n",
        "Is this customer an Active Member: Yes\n",
        "\n",
        "Estimated Salary: \\$ 50000\n",
        "\n",
        "So, should we say goodbye to that customer?"
      ]
    },
    {
      "cell_type": "markdown",
      "metadata": {
        "id": "ZhU1LTgPg-kH"
      },
      "source": [
        "**Solution**"
      ]
    },
    {
      "cell_type": "code",
      "metadata": {
        "id": "KGK6sB6ZvZ9Y",
        "outputId": "ee861fad-03ed-4f39-9340-e6846047c66a",
        "colab": {
          "base_uri": "https://localhost:8080/",
          "height": 34
        }
      },
      "source": [
        "print(ann.predict(sc.transform([[1, 0, 0, 600, 1, 40, 3, 60000, 2, 1, 1, 50000]])) > 0.5)"
      ],
      "execution_count": 42,
      "outputs": [
        {
          "output_type": "stream",
          "text": [
            "[[ True]]\n"
          ],
          "name": "stdout"
        }
      ]
    },
    {
      "cell_type": "markdown",
      "metadata": {
        "id": "u7yx47jPZt11"
      },
      "source": [
        "### Predicting the Test set results"
      ]
    },
    {
      "cell_type": "code",
      "metadata": {
        "id": "QL6VwVn6yOge",
        "outputId": "6f1e29ee-f7d8-4ff9-ee74-c3548bb4d497",
        "colab": {
          "base_uri": "https://localhost:8080/",
          "height": 136
        }
      },
      "source": [
        "y_pred = ann.predict(X_test)\n",
        "y_pred = (y_pred > 0.5)\n",
        "print(np.concatenate((y_pred.reshape(len(y_pred),1), y_test.reshape(len(y_test),1)),1))"
      ],
      "execution_count": 43,
      "outputs": [
        {
          "output_type": "stream",
          "text": [
            "[[0 0]\n",
            " [0 1]\n",
            " [0 0]\n",
            " ...\n",
            " [0 0]\n",
            " [0 0]\n",
            " [0 0]]\n"
          ],
          "name": "stdout"
        }
      ]
    },
    {
      "cell_type": "markdown",
      "metadata": {
        "id": "o0oyfLWoaEGw"
      },
      "source": [
        "### Making the Confusion Matrix"
      ]
    },
    {
      "cell_type": "code",
      "metadata": {
        "id": "0lUt6JdfyT1c",
        "outputId": "fda17ecf-b4df-404b-ba68-b6ca41651ae4",
        "colab": {
          "base_uri": "https://localhost:8080/",
          "height": 68
        }
      },
      "source": [
        "from sklearn.metrics import confusion_matrix, accuracy_score\n",
        "cm = confusion_matrix(y_test, y_pred)\n",
        "print(cm)\n",
        "accuracy_score(y_test, y_pred)"
      ],
      "execution_count": 44,
      "outputs": [
        {
          "output_type": "stream",
          "text": [
            "[[1891  100]\n",
            " [ 257  252]]\n"
          ],
          "name": "stdout"
        },
        {
          "output_type": "execute_result",
          "data": {
            "text/plain": [
              "0.8572"
            ]
          },
          "metadata": {
            "tags": []
          },
          "execution_count": 44
        }
      ]
    },
    {
      "cell_type": "code",
      "metadata": {
        "id": "mFCzTBUQyUwV"
      },
      "source": [
        ""
      ],
      "execution_count": null,
      "outputs": []
    }
  ]
}